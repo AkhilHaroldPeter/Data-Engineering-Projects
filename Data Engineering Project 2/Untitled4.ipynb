{
 "cells": [
  {
   "cell_type": "code",
   "execution_count": null,
   "id": "4a006f0f",
   "metadata": {},
   "outputs": [],
   "source": []
  },
  {
   "cell_type": "code",
   "execution_count": null,
   "id": "a2f1111e",
   "metadata": {},
   "outputs": [],
   "source": [
    "from File_content_generator import *\n",
    "from create_doc import *\n",
    "from create_pdf import *\n",
    "from configparser import RawConfigParser\n",
    "import sys\n",
    "import pandas as pd\n",
    "\n",
    "# Load configuration\n",
    "config = RawConfigParser()\n",
    "config.read('iconfig.ini')\n",
    "\n",
    "# Get the filename from command-line arguments\n",
    "filename = sys.argv[1]\n",
    "\n",
    "# Read output preferences from config\n",
    "Excel_output = config.getboolean(f'{filename}', 'Excel_output')\n",
    "csv_output = config.getboolean(f'{filename}', 'csv_output')\n",
    "json_output = config.getboolean(f'{filename}', 'json_output')\n",
    "parquet_output = config.getboolean(f'{filename}', 'parquet_output')\n",
    "pdf_output = config.getboolean(f'{filename}', 'pdf_output')\n",
    "word_output = config.getboolean(f'{filename}', 'word_output')\n",
    "generate_content = config.getboolean(f'{filename}', 'generate_content')\n",
    "\n",
    "\n",
    "# Read the input DataFrame from stdin\n",
    "df = pd.read_csv(sys.stdin)\n",
    "if generate_content:\n",
    "    description_list = File_content_generator(df)\n",
    "\n",
    "\n",
    "# Check each output format and write directly if True\n",
    "if Excel_output:\n",
    "#     excel_path = config[f'{filename}']['Excel_output_path']\n",
    "    df.to_excel(f'{filename}_report.xlsx', index=False)  # Write to Excel\n",
    "\n",
    "if csv_output:\n",
    "#     csv_path = config[f'{filename}']['csv_output_path']\n",
    "    df.to_csv(f'{filename}_report.csv', index=False)  # Write to CSV\n",
    "\n",
    "if json_output:\n",
    "#     json_path = config[f'{filename}']['json_output_path']\n",
    "    df.to_json(f'{filename}_report.json', orient='records', lines=True)  # Write to JSON\n",
    "\n",
    "if parquet_output:\n",
    "#     parquet_path = config[f'{filename}']['parquet_output_path']\n",
    "    df.to_parquet(f'{filename}_report.parquet', index=False)  # Write to Parquet\n",
    "\n",
    "\n",
    "if pdf_output:\n",
    "    create_pdf(f\"{filename}_.pdf\", f\"{filename.replace('_',' ')}\", description_list, df)\n",
    "\n",
    "# Here the parameter 4 passed in create_doc is genereated by an llm model(cohere)    \n",
    "if word_output:\n",
    "    create_doc(f'{filename}_Report.docx', f\"{filename.replace('_',' ')}\", \n",
    "    config[f'{filename}']['word_output_text_intro'], \n",
    "    description_list, \n",
    "    df,\n",
    "    df.columns)\n",
    "\n"
   ]
  },
  {
   "cell_type": "code",
   "execution_count": 2,
   "id": "12bda64d",
   "metadata": {},
   "outputs": [
    {
     "name": "stdout",
     "output_type": "stream",
     "text": [
      "Spend Distribution Across Card Types\n"
     ]
    }
   ],
   "source": [
    "d = \"Spend_Distribution_Across_Card_Types\"\n",
    "print(f\"{d.replace('_',' ')}\")"
   ]
  },
  {
   "cell_type": "code",
   "execution_count": null,
   "id": "7679d4b7",
   "metadata": {},
   "outputs": [],
   "source": []
  },
  {
   "cell_type": "code",
   "execution_count": null,
   "id": "3c5133c7",
   "metadata": {},
   "outputs": [],
   "source": [
    "create_doc(\n",
    "    'Top_5_Expense_Categories_Report.docx', \n",
    "    'Top 5 Expense Categories', \n",
    "    \"This report highlights the top 5 expense categories based on the total spending from credit card transactions. Understanding these categories can provide insights into consumer behavior and spending patterns.\", \n",
    "    [('Overview', 'The data offers a glimpse into the spending habits of individuals, with a focus on five primary expense categories: Bills, Food, Fuel, Entertainment, and Grocery. Together, these categories account for a significant proportion of overall spending, totaling over ₹3.9 billion. The dominant categories, each contributing over 17% to the total spend, are Bills, Food, and Fuel, while Entertainment and Grocery expenses also represent a substantial portion of the budget.'), ('Category Dominance', 'Bills represent the largest expense category, totaling over ₹907 million and making up 22.26% of the total spend. This is followed closely by Food, which accounts for 20.24% of the budget, and Fuel, at 19.37%. These three categories alone make up almost 62% of the total spending, indicating that they are essential and non-negotiable expenses for most individuals. Entertainment and Grocery, while slightly lower in percentage contribution, still represent a significant amount of spending at over ₹700 million each.'), ('Budget Allocation', 'The budget allocation suggests that the majority of spending is focused on essential needs, with Bills, Food, and Fuel taking priority. This leaves less room for discretionary spending, as evidenced by the slightly lower allocation to Entertainment and Grocery. However, it is important to note that the nature of these categories may result in varying levels of spend across different income groups. For example, Fuel expenses may be higher for those with longer commutes or those who rely on personal vehicles for transportation. Similarly, Grocery expenses may fluctuate based on family size and dietary preferences.'), ('Behavior Insights', \"There is a clear trend towards practical and necessary spending, with a large portion of the budget allocated to Bills, Food, and Fuel. This suggests that individuals are prioritizing their basic needs and financial obligations. The data also indicates a potential correlation between spending on Food and Entertainment, as these categories often go hand in hand. A higher spend on Food may be associated with dining out or ordering in, which could also increase Entertainment expenses. Similarly, a focus on Fuel expenses may indicate a need for convenient and efficient transportation, which could influence an individual's spending habits in other areas, such as opting for faster but more expensive delivery services.\"), ('Suggestions and Adjustments', 'To optimize budget allocation and identify potential cost savings, the following strategies could be considered: Negotiating better rates or shopping around for essential services can help reduce Bill expenses. This may include reviewing subscription plans, insurance policies, and utility providers for more cost-effective options. For Food and Grocery spending, creating a meal plan and sticking to a grocery list can reduce impulse purchases and minimize waste. Additionally, taking advantage of discounts and loyalty programs can help stretch the budget further. Fuel expenses can be optimized by considering more fuel-efficient transportation options or, if feasible, utilizing public transportation or carpooling. Finally, Entertainment spending can be curbed by seeking out free or low-cost activities and taking advantage of promotional offers for dining and recreational experiences.')], \n",
    "    data1,\n",
    "    headings1\n",
    ")\n",
    "\n",
    "\n",
    "# Example usage\n",
    "import pandas as pd\n",
    "data = {'exp_type': ['Groceries', 'Entertainment', 'Travel', 'Dining', 'Health'],\n",
    "        'total_spend': [15000, 12000, 10000, 8000, 5000],\n",
    "        'percentage_contribution': [30.0, 24.0, 20.0, 16.0, 10.0]}\n",
    "df = pd.DataFrame(data)\n",
    "\n",
    "# Defining the title and description list\n",
    "title_text = \"Top 5 Expense Categories\"\n",
    "description_list = [\n",
    "    ('Overview', 'The data offers a glimpse into the spending habits of individuals, with a focus on five primary expense categories: Bills, Food, Fuel, Entertainment, and Grocery. Together, these categories account for a significant proportion of overall spending, totaling over ₹3.9 billion. The dominant categories, each contributing over 17% to the total spend, are Bills, Food, and Fuel, while Entertainment and Grocery expenses also represent a substantial portion of the budget.'),\n",
    "    ('Category Dominance', 'Bills represent the largest expense category, totaling over ₹907 million and making up 22.26% of the total spend. This is followed closely by Food, which accounts for 20.24% of the budget, and Fuel, at 19.37%. These three categories alone make up almost 62% of the total spending, indicating that they are essential and non-negotiable expenses for most individuals. Entertainment and Grocery, while slightly lower in percentage contribution, still represent a significant amount of spending at over ₹700 million each.'),\n",
    "    ('Budget Allocation', 'The budget allocation suggests that the majority of spending is focused on essential needs, with Bills, Food, and Fuel taking priority. This leaves less room for discretionary spending, as evidenced by the slightly lower allocation to Entertainment and Grocery. However, it is important to note that the nature of these categories may result in varying levels of spend across different income groups. For example, Fuel expenses may be higher for those with longer commutes or those who rely on personal vehicles for transportation. Similarly, Grocery expenses may fluctuate based on family size and dietary preferences.'),\n",
    "    ('Behavior Insights', \"There is a clear trend towards practical and necessary spending, with a large portion of the budget allocated to Bills, Food, and Fuel. This suggests that individuals are prioritizing their basic needs and financial obligations. The data also indicates a potential correlation between spending on Food and Entertainment, as these categories often go hand in hand. A higher spend on Food may be associated with dining out or ordering in, which could also increase Entertainment expenses. Similarly, a focus on Fuel expenses may indicate a need for convenient and efficient transportation, which could influence an individual's spending habits in other areas, such as opting for faster but more expensive delivery services.\"),\n",
    "    ('Suggestions and Adjustments', 'To optimize budget allocation and identify potential cost savings, the following strategies could be considered: Negotiating better rates or shopping around for essential services can help reduce Bill expenses. This may include reviewing subscription plans, insurance policies, and utility providers for more cost-effective options. For Food and Grocery spending, creating a meal plan and sticking to a grocery list can reduce impulse purchases and minimize waste. Additionally, taking advantage of discounts and loyalty programs can help stretch the budget further. Fuel expenses can be optimized by considering more fuel-efficient transportation options or, if feasible, utilizing public transportation or carpooling. Finally, Entertainment spending can be curbed by seeking out free or low-cost activities and taking advantage of promotional offers for dining and recreational experiences.')\n",
    "]\n",
    "# The below code is used to replace rupee symbol to INR.\n",
    "# By default, ReportLab uses basic fonts that may not support the Rupee symbol or other Unicode characters well.\n",
    "# To fix this, we need to use a Unicode-compatible TrueType font that includes the Rupee symbol, such as DejaVu Sans, Arial Unicode MS, or another appropriate font.\n",
    "description_list = [(title, text.replace('₹', 'INR ')) for title, text in description_list]\n",
    "# Create the PDF with formatted text and a table\n",
    "create_pdf_with_formatted_text(\"Expense_Report_Formatted12.pdf\", title_text, description_list, df)"
   ]
  },
  {
   "cell_type": "code",
   "execution_count": null,
   "id": "ab92c721",
   "metadata": {},
   "outputs": [],
   "source": []
  },
  {
   "cell_type": "code",
   "execution_count": null,
   "id": "8c80f011",
   "metadata": {},
   "outputs": [],
   "source": []
  },
  {
   "cell_type": "code",
   "execution_count": 15,
   "id": "48a52cb5",
   "metadata": {},
   "outputs": [
    {
     "name": "stdout",
     "output_type": "stream",
     "text": [
      "C:\\Users\\akhil\\Programming\\Data Engineering Projects\\Data Engineering Project 2\n"
     ]
    }
   ],
   "source": [
    "from pathlib import Path\n",
    "import os\n",
    "\n",
    "# Get the current script's parent directory (equivalent to current_directory in previous example)\n",
    "current_directory = Path(Path.cwd()).resolve().parent\n",
    "print(os.getcwd() )\n",
    "# # Get the path to the config file\n",
    "# config_path = current_directory.parent / 'config' / 'iconfig.ini'\n",
    "\n",
    "# print(\"Config path:\", config_path)\n"
   ]
  },
  {
   "cell_type": "code",
   "execution_count": 1,
   "id": "881874ad",
   "metadata": {},
   "outputs": [],
   "source": [
    "\n",
    "\n",
    "\n",
    "from File_content_generator import *\n",
    "from create_doc import *\n",
    "from create_pdf import *\n",
    "from configparser import RawConfigParser\n",
    "import sys\n",
    "import pandas as pd\n",
    "\n",
    "# Load configuration\n",
    "config = RawConfigParser()\n",
    "config.read('iconfig.ini')\n",
    "\n",
    "# Get the filename from command-line arguments\n",
    "filename = \"Top_5_Expense_Categories\" #sys.argv[1]\n",
    "\n",
    "# Read output preferences from config\n",
    "Excel_output = config.getboolean(f'{filename}', 'Excel_output')\n",
    "csv_output = config.getboolean(f'{filename}', 'csv_output')\n",
    "json_output = config.getboolean(f'{filename}', 'json_output')\n",
    "parquet_output = config.getboolean(f'{filename}', 'parquet_output')\n",
    "pdf_output = config.getboolean(f'{filename}', 'pdf_output')\n",
    "word_output = config.getboolean(f'{filename}', 'word_output')\n",
    "generate_content = config.getboolean(f'{filename}', 'generate_content')\n",
    "\n",
    "\n",
    "# Read the input DataFrame from stdin\n",
    "df = pd.read_csv(\"C:/Users/akhil/Programming/Data Engineering Projects/Data Engineering Project 2/Top_5_Expense_Categories_report.csv\")\n",
    "if generate_content:\n",
    "    description_list = File_content_generator(df)\n",
    "\n",
    "\n",
    "\n",
    "\n"
   ]
  },
  {
   "cell_type": "code",
   "execution_count": null,
   "id": "3a080f3f",
   "metadata": {},
   "outputs": [],
   "source": [
    "df"
   ]
  },
  {
   "cell_type": "code",
   "execution_count": 2,
   "id": "a111322d",
   "metadata": {},
   "outputs": [],
   "source": [
    "# Check each output format and write directly if True\n",
    "if Excel_output:\n",
    "#     excel_path = config[f'{filename}']['Excel_output_path']\n",
    "    df.to_excel(f'{filename}_report.xlsx', index=False)  # Write to Excel\n",
    "\n",
    "if csv_output:\n",
    "#     csv_path = config[f'{filename}']['csv_output_path']\n",
    "    df.to_csv(f'{filename}_report.csv', index=False)  # Write to CSV\n",
    "\n",
    "if json_output:\n",
    "#     json_path = config[f'{filename}']['json_output_path']\n",
    "    df.to_json(f'{filename}_report.json', orient='records', lines=True)  # Write to JSON\n",
    "\n",
    "if parquet_output:\n",
    "#     parquet_path = config[f'{filename}']['parquet_output_path']\n",
    "    df.to_parquet(f'{filename}_report.parquet', index=False)  # Write to Parquet\n",
    "\n"
   ]
  },
  {
   "cell_type": "code",
   "execution_count": 3,
   "id": "5368cfd8",
   "metadata": {},
   "outputs": [],
   "source": [
    "\n",
    "if pdf_output:\n",
    "    create_pdf(f\"{filename}_.pdf\", f\"{filename.replace('_',' ')}\", description_list, df)\n"
   ]
  },
  {
   "cell_type": "code",
   "execution_count": 6,
   "id": "f0943bfc",
   "metadata": {},
   "outputs": [
    {
     "data": {
      "text/plain": [
       "[('Overview',\n",
       "  'The data offers a glimpse into the spending habits of individuals, with a focus on five primary expense categories: Bills, Food, Fuel, Entertainment, and Grocery. Together, these categories account for a significant proportion of overall spending, shaping the budget allocation strategies and financial decisions of individuals.'),\n",
       " ('Category Dominance',\n",
       "  \"Bills and essential expenses take the lion's share of spending, accounting for 22.26% of the total budget. This is closely followed by Food at 20.24% and Fuel at 19.37%. While Entertainment and Grocery expenses are not far behind, indicating a relatively even distribution across these critical areas of spending.\"),\n",
       " ('Budget Allocation',\n",
       "  'The distribution of expenses highlights the necessity of these categories in daily life. With Bills, Food, and Fuel occupying the top three spots, it suggests that basic necessities and essential services are the primary focus of budget allocation. This leaves Entertainment and Grocery, which are still significant, occupying a slightly smaller portion of the overall budget.'),\n",
       " ('Behavior Insights',\n",
       "  'The spending behavior revealed by the data suggests a practical and essentialist approach to budgeting. Individuals prioritize covering their basic needs and expenses first, ensuring that Bills are paid and that Food and Fuel requirements are met. This practical mindset likely influences the allocation of funds, with a focus on necessity over discretionary spending.'),\n",
       " ('Potential Cost Savings',\n",
       "  'Reviewing the breakdown of expenses, one strategy for potential cost savings could be to negotiate better rates for essential services. Given that Bills make up a significant portion of spending, shopping around for competitive rates for utilities or insurance could result in substantial savings over time. Additionally, with Fuel expenses being notable, considering more fuel-efficient transportation options or utilizing rewards programs could help reduce costs in this category.'),\n",
       " ('Consumer Behavior Trends',\n",
       "  'There is a potential correlation between spending in the Bills and Fuel categories. As essential expenses, they are less discretionary and more influenced by external factors such as inflation or energy price fluctuations. Food and Grocery expenses often move in tandem, suggesting that individuals are price-conscious when it comes to their essential food purchases. Entertainment spending may be more variable, influenced by discretionary income and personal preferences, and could be an area to consider for budget adjustments.'),\n",
       " ('Recommendations',\n",
       "  'Based on the analysis, individuals may benefit from a two-pronged approach: negotiating essential expenses to optimize fixed costs and being mindful of variable spending. Given the weight of Bills and Fuel, strategies to reduce these expenses could have a notable impact. For variable costs, individuals could consider setting spending limits for discretionary categories like Entertainment, especially if their financial goals include saving for the future or paying down debt.')]"
      ]
     },
     "execution_count": 6,
     "metadata": {},
     "output_type": "execute_result"
    }
   ],
   "source": [
    "description_list"
   ]
  },
  {
   "cell_type": "code",
   "execution_count": 11,
   "id": "ad001941",
   "metadata": {},
   "outputs": [
    {
     "name": "stdout",
     "output_type": "stream",
     "text": [
      "[('Bills', 907072473.0, 22.26), ('Food', 824724009.0, 20.24), ('Fuel', 789135821.0, 19.37), ('Entertainment', 726437536.0, 17.83), ('Grocery', 718207923.0, 17.63)]\n"
     ]
    }
   ],
   "source": [
    "from convert_to_tuple_format import *\n",
    "\n",
    "print(convert_to_tuple_format(df))"
   ]
  },
  {
   "cell_type": "code",
   "execution_count": 12,
   "id": "ae51cc82",
   "metadata": {},
   "outputs": [],
   "source": [
    "\n",
    "# Here the parameter 4 passed in create_doc is genereated by an llm model(cohere)    \n",
    "if word_output:\n",
    "    create_doc(\n",
    "        f'{filename}_Report.docx', \n",
    "        f'{filename.replace(\"_\", \" \")}', \n",
    "        config[f'{filename}']['word_output_text_intro'], \n",
    "        description_list, \n",
    "        convert_to_tuple_format(df),\n",
    "        df.columns\n",
    "    )"
   ]
  },
  {
   "cell_type": "code",
   "execution_count": null,
   "id": "88d91140",
   "metadata": {},
   "outputs": [],
   "source": [
    "from docx import Document\n",
    "from docx.shared import Pt\n",
    "from docx.enum.text import WD_ALIGN_PARAGRAPH\n",
    "\n",
    "def create_doc(file_name, title, intro_text, observations, data, headings):\n",
    "    # Create a new Document\n",
    "    doc = Document()\n",
    "\n",
    "    # Add a title\n",
    "    doc.add_heading(title, level=1).alignment = WD_ALIGN_PARAGRAPH.CENTER\n",
    "\n",
    "    # Add introductory paragraph\n",
    "    intro = doc.add_paragraph()\n",
    "    run = intro.add_run(f'\\n {intro_text}')\n",
    "    run.font.size = Pt(12)\n",
    "    run.font.name = 'Arial'\n",
    "    intro.paragraph_format.alignment = WD_ALIGN_PARAGRAPH.JUSTIFY\n",
    "    \n",
    "    doc.add_paragraph(\"\\nThe following trends are observed:\\n\")\n",
    "\n",
    "    # Add observations with formatting\n",
    "    for heading, content in observations:\n",
    "        p = doc.add_paragraph()\n",
    "        p.add_run(f\"{heading}: \").bold = True\n",
    "        p.add_run(content)\n",
    "        p.paragraph_format.alignment = WD_ALIGN_PARAGRAPH.JUSTIFY\n",
    "\n",
    "    # Add table introduction\n",
    "    doc.add_paragraph(\n",
    "        \"\\nThe table below presents the expense categories along with their respective total spends \"\n",
    "        \"and percentage contributions to the overall spending.\\n\"\n",
    "    )\n",
    "\n",
    "    # Add a table\n",
    "    table = doc.add_table(rows=1, cols=len(headings))  # Set the number of columns based on headings\n",
    "    table.style = 'Table Grid'\n",
    "\n",
    "    # Define table headings dynamically\n",
    "    hdr_cells = table.rows[0].cells\n",
    "    for i, heading in enumerate(headings):\n",
    "        hdr_cells[i].text = heading\n",
    "\n",
    "    # Add rows from the data\n",
    "    for row in data:\n",
    "        row_cells = table.add_row().cells\n",
    "        for i, value in enumerate(row):\n",
    "            row_cells[i].text = str(value)  # Convert to string for safety\n",
    "\n",
    "    # Format the table columns\n",
    "    for row in table.rows:\n",
    "        for cell in row.cells:\n",
    "            cell.paragraphs[0].alignment = WD_ALIGN_PARAGRAPH.CENTER\n",
    "\n",
    "    # Save the document\n",
    "    doc.save(file_name)\n"
   ]
  },
  {
   "cell_type": "code",
   "execution_count": 4,
   "id": "f4253a6b",
   "metadata": {},
   "outputs": [
    {
     "name": "stdout",
     "output_type": "stream",
     "text": [
      "Top_5_Expense_Categories_Report.docx\n"
     ]
    }
   ],
   "source": [
    "print(f'{filename}_Report.docx')"
   ]
  },
  {
   "cell_type": "code",
   "execution_count": 5,
   "id": "276b929f",
   "metadata": {},
   "outputs": [
    {
     "name": "stdout",
     "output_type": "stream",
     "text": [
      "[('Bills', 907072473.0, 22.26), ('Food', 824724009.0, 20.24), ('Fuel', 789135821.0, 19.37), ('Entertainment', 726437536.0, 17.83), ('Grocery', 718207923.0, 17.63)]\n"
     ]
    }
   ],
   "source": [
    "\n",
    "# def convert_to_tuple_format(df):\n",
    "#     # Convert the DataFrame to the desired list of tuples\n",
    "#     data = [\n",
    "#         (row['exp_type'], round(row['total_spend'], 2), round(row['percentage_contribution'], 2))\n",
    "#         for _, row in df.iterrows()\n",
    "#     ]\n",
    "#     return data\n",
    "\n",
    "\n",
    "# result = convert_to_tuple_format(df)\n",
    "# print(result)"
   ]
  }
 ],
 "metadata": {
  "kernelspec": {
   "display_name": "Python 3 (ipykernel)",
   "language": "python",
   "name": "python3"
  },
  "language_info": {
   "codemirror_mode": {
    "name": "ipython",
    "version": 3
   },
   "file_extension": ".py",
   "mimetype": "text/x-python",
   "name": "python",
   "nbconvert_exporter": "python",
   "pygments_lexer": "ipython3",
   "version": "3.11.7"
  }
 },
 "nbformat": 4,
 "nbformat_minor": 5
}
