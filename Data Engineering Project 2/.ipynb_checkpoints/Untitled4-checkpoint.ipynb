{
 "cells": [
  {
   "cell_type": "code",
   "execution_count": null,
   "id": "1cda2497",
   "metadata": {},
   "outputs": [],
   "source": []
  },
  {
   "cell_type": "code",
   "execution_count": null,
   "id": "0c03bcdb",
   "metadata": {},
   "outputs": [],
   "source": [
    "from File_content_generator import *\n",
    "from create_doc import *\n",
    "from create_pdf import *\n",
    "from configparser import RawConfigParser\n",
    "import sys\n",
    "import pandas as pd\n",
    "\n",
    "# Load configuration\n",
    "config = RawConfigParser()\n",
    "config.read('iconfig.ini')\n",
    "\n",
    "# Get the filename from command-line arguments\n",
    "filename = sys.argv[1]\n",
    "\n",
    "# Read output preferences from config\n",
    "Excel_output = config.getboolean(f'{filename}', 'Excel_output')\n",
    "csv_output = config.getboolean(f'{filename}', 'csv_output')\n",
    "json_output = config.getboolean(f'{filename}', 'json_output')\n",
    "parquet_output = config.getboolean(f'{filename}', 'parquet_output')\n",
    "pdf_output = config.getboolean(f'{filename}', 'pdf_output')\n",
    "word_output = config.getboolean(f'{filename}', 'word_output')\n",
    "\n",
    "# Read the input DataFrame from stdin\n",
    "df = pd.read_csv(sys.stdin)\n",
    "\n",
    "# Check each output format and write directly if True\n",
    "if Excel_output:\n",
    "#     excel_path = config[f'{filename}']['Excel_output_path']\n",
    "    df.to_excel('excel_path.xlsx', index=False)  # Write to Excel\n",
    "\n",
    "if csv_output:\n",
    "#     csv_path = config[f'{filename}']['csv_output_path']\n",
    "    df.to_csv('csv_path.csv', index=False)  # Write to CSV\n",
    "\n",
    "if json_output:\n",
    "#     json_path = config[f'{filename}']['json_output_path']\n",
    "    df.to_json('json_path.json', orient='records', lines=True)  # Write to JSON\n",
    "\n",
    "if parquet_output:\n",
    "#     parquet_path = config[f'{filename}']['parquet_output_path']\n",
    "    df.to_parquet('parquet_path.parquet', index=False)  # Write to Parquet\n",
    "\n",
    "\n",
    "if pdf_output:\n",
    "    create_pdf(df, config[f'{filename}']['pdf_output_path'])\n",
    "\n",
    "# Here the parameter 4 passed in create_doc is genereated by an llm model(cohere)    \n",
    "if word_output:\n",
    "    create_doc(f'{filename}_Report.docx', f\"{filename.replace('_',' ')}\", \n",
    "    config[f'{filename}']['word_output_text_intro'], \n",
    "    File_content_generator(data), \n",
    "    df,\n",
    "    df.columns)\n",
    "\n"
   ]
  },
  {
   "cell_type": "code",
   "execution_count": 2,
   "id": "8f606678",
   "metadata": {},
   "outputs": [
    {
     "name": "stdout",
     "output_type": "stream",
     "text": [
      "Spend Distribution Across Card Types\n"
     ]
    }
   ],
   "source": [
    "d = \"Spend_Distribution_Across_Card_Types\"\n",
    "print(f\"{d.replace('_',' ')}\")"
   ]
  },
  {
   "cell_type": "code",
   "execution_count": null,
   "id": "8beeea00",
   "metadata": {},
   "outputs": [],
   "source": []
  },
  {
   "cell_type": "code",
   "execution_count": null,
   "id": "e46ca983",
   "metadata": {},
   "outputs": [],
   "source": [
    "create_doc(\n",
    "    'Top_5_Expense_Categories_Report.docx', \n",
    "    'Top 5 Expense Categories', \n",
    "    \"This report highlights the top 5 expense categories based on the total spending from credit card transactions. Understanding these categories can provide insights into consumer behavior and spending patterns.\", \n",
    "    [('Overview', 'The data offers a glimpse into the spending habits of individuals, with a focus on five primary expense categories: Bills, Food, Fuel, Entertainment, and Grocery. Together, these categories account for a significant proportion of overall spending, totaling over ₹3.9 billion. The dominant categories, each contributing over 17% to the total spend, are Bills, Food, and Fuel, while Entertainment and Grocery expenses also represent a substantial portion of the budget.'), ('Category Dominance', 'Bills represent the largest expense category, totaling over ₹907 million and making up 22.26% of the total spend. This is followed closely by Food, which accounts for 20.24% of the budget, and Fuel, at 19.37%. These three categories alone make up almost 62% of the total spending, indicating that they are essential and non-negotiable expenses for most individuals. Entertainment and Grocery, while slightly lower in percentage contribution, still represent a significant amount of spending at over ₹700 million each.'), ('Budget Allocation', 'The budget allocation suggests that the majority of spending is focused on essential needs, with Bills, Food, and Fuel taking priority. This leaves less room for discretionary spending, as evidenced by the slightly lower allocation to Entertainment and Grocery. However, it is important to note that the nature of these categories may result in varying levels of spend across different income groups. For example, Fuel expenses may be higher for those with longer commutes or those who rely on personal vehicles for transportation. Similarly, Grocery expenses may fluctuate based on family size and dietary preferences.'), ('Behavior Insights', \"There is a clear trend towards practical and necessary spending, with a large portion of the budget allocated to Bills, Food, and Fuel. This suggests that individuals are prioritizing their basic needs and financial obligations. The data also indicates a potential correlation between spending on Food and Entertainment, as these categories often go hand in hand. A higher spend on Food may be associated with dining out or ordering in, which could also increase Entertainment expenses. Similarly, a focus on Fuel expenses may indicate a need for convenient and efficient transportation, which could influence an individual's spending habits in other areas, such as opting for faster but more expensive delivery services.\"), ('Suggestions and Adjustments', 'To optimize budget allocation and identify potential cost savings, the following strategies could be considered: Negotiating better rates or shopping around for essential services can help reduce Bill expenses. This may include reviewing subscription plans, insurance policies, and utility providers for more cost-effective options. For Food and Grocery spending, creating a meal plan and sticking to a grocery list can reduce impulse purchases and minimize waste. Additionally, taking advantage of discounts and loyalty programs can help stretch the budget further. Fuel expenses can be optimized by considering more fuel-efficient transportation options or, if feasible, utilizing public transportation or carpooling. Finally, Entertainment spending can be curbed by seeking out free or low-cost activities and taking advantage of promotional offers for dining and recreational experiences.')], \n",
    "    data1,\n",
    "    headings1\n",
    ")\n",
    "\n",
    "\n",
    "# Example usage\n",
    "import pandas as pd\n",
    "data = {'exp_type': ['Groceries', 'Entertainment', 'Travel', 'Dining', 'Health'],\n",
    "        'total_spend': [15000, 12000, 10000, 8000, 5000],\n",
    "        'percentage_contribution': [30.0, 24.0, 20.0, 16.0, 10.0]}\n",
    "df = pd.DataFrame(data)\n",
    "\n",
    "# Defining the title and description list\n",
    "title_text = \"Top 5 Expense Categories\"\n",
    "description_list = [\n",
    "    ('Overview', 'The data offers a glimpse into the spending habits of individuals, with a focus on five primary expense categories: Bills, Food, Fuel, Entertainment, and Grocery. Together, these categories account for a significant proportion of overall spending, totaling over ₹3.9 billion. The dominant categories, each contributing over 17% to the total spend, are Bills, Food, and Fuel, while Entertainment and Grocery expenses also represent a substantial portion of the budget.'),\n",
    "    ('Category Dominance', 'Bills represent the largest expense category, totaling over ₹907 million and making up 22.26% of the total spend. This is followed closely by Food, which accounts for 20.24% of the budget, and Fuel, at 19.37%. These three categories alone make up almost 62% of the total spending, indicating that they are essential and non-negotiable expenses for most individuals. Entertainment and Grocery, while slightly lower in percentage contribution, still represent a significant amount of spending at over ₹700 million each.'),\n",
    "    ('Budget Allocation', 'The budget allocation suggests that the majority of spending is focused on essential needs, with Bills, Food, and Fuel taking priority. This leaves less room for discretionary spending, as evidenced by the slightly lower allocation to Entertainment and Grocery. However, it is important to note that the nature of these categories may result in varying levels of spend across different income groups. For example, Fuel expenses may be higher for those with longer commutes or those who rely on personal vehicles for transportation. Similarly, Grocery expenses may fluctuate based on family size and dietary preferences.'),\n",
    "    ('Behavior Insights', \"There is a clear trend towards practical and necessary spending, with a large portion of the budget allocated to Bills, Food, and Fuel. This suggests that individuals are prioritizing their basic needs and financial obligations. The data also indicates a potential correlation between spending on Food and Entertainment, as these categories often go hand in hand. A higher spend on Food may be associated with dining out or ordering in, which could also increase Entertainment expenses. Similarly, a focus on Fuel expenses may indicate a need for convenient and efficient transportation, which could influence an individual's spending habits in other areas, such as opting for faster but more expensive delivery services.\"),\n",
    "    ('Suggestions and Adjustments', 'To optimize budget allocation and identify potential cost savings, the following strategies could be considered: Negotiating better rates or shopping around for essential services can help reduce Bill expenses. This may include reviewing subscription plans, insurance policies, and utility providers for more cost-effective options. For Food and Grocery spending, creating a meal plan and sticking to a grocery list can reduce impulse purchases and minimize waste. Additionally, taking advantage of discounts and loyalty programs can help stretch the budget further. Fuel expenses can be optimized by considering more fuel-efficient transportation options or, if feasible, utilizing public transportation or carpooling. Finally, Entertainment spending can be curbed by seeking out free or low-cost activities and taking advantage of promotional offers for dining and recreational experiences.')\n",
    "]\n",
    "# The below code is used to replace rupee symbol to INR.\n",
    "# By default, ReportLab uses basic fonts that may not support the Rupee symbol or other Unicode characters well.\n",
    "# To fix this, we need to use a Unicode-compatible TrueType font that includes the Rupee symbol, such as DejaVu Sans, Arial Unicode MS, or another appropriate font.\n",
    "description_list = [(title, text.replace('₹', 'INR ')) for title, text in description_list]\n",
    "# Create the PDF with formatted text and a table\n",
    "create_pdf_with_formatted_text(\"Expense_Report_Formatted12.pdf\", title_text, description_list, df)"
   ]
  },
  {
   "cell_type": "code",
   "execution_count": null,
   "id": "0f555d5d",
   "metadata": {},
   "outputs": [],
   "source": []
  },
  {
   "cell_type": "code",
   "execution_count": null,
   "id": "f5b33fa3",
   "metadata": {},
   "outputs": [],
   "source": []
  },
  {
   "cell_type": "code",
   "execution_count": null,
   "id": "28bd11c6",
   "metadata": {},
   "outputs": [],
   "source": []
  },
  {
   "cell_type": "code",
   "execution_count": null,
   "id": "29538e10",
   "metadata": {},
   "outputs": [],
   "source": []
  }
 ],
 "metadata": {
  "kernelspec": {
   "display_name": "Python 3 (ipykernel)",
   "language": "python",
   "name": "python3"
  },
  "language_info": {
   "codemirror_mode": {
    "name": "ipython",
    "version": 3
   },
   "file_extension": ".py",
   "mimetype": "text/x-python",
   "name": "python",
   "nbconvert_exporter": "python",
   "pygments_lexer": "ipython3",
   "version": "3.11.7"
  }
 },
 "nbformat": 4,
 "nbformat_minor": 5
}
